{
 "cells": [
  {
   "cell_type": "code",
   "execution_count": null,
   "metadata": {
    "id": "HgecxlnlPsrI"
   },
   "outputs": [],
   "source": [
    "import pandas as pd\n",
    "from nltk.tokenize import word_tokenize\n",
    "from nltk.stem import WordNetLemmatizer\n",
    "import re\n",
    "from bs4 import BeautifulSoup \n",
    "import nltk\n",
    "from sklearn.model_selection import train_test_split\n",
    "from collections import Counter\n",
    "from sklearn.metrics import accuracy_score,f1_score,confusion_matrix\n",
    "import matplotlib.pyplot as plt \n",
    "import numpy as np \n",
    "from nltk.corpus import stopwords"
   ]
  },
  {
   "cell_type": "code",
   "execution_count": null,
   "metadata": {
    "colab": {
     "base_uri": "https://localhost:8080/"
    },
    "id": "ioGl2xNSa7Ml",
    "outputId": "100857c8-1c66-4c25-812a-60688e31dfe1"
   },
   "outputs": [
    {
     "name": "stderr",
     "output_type": "stream",
     "text": [
      "[nltk_data] Downloading package wordnet to /root/nltk_data...\n",
      "[nltk_data] Downloading package punkt to /root/nltk_data...\n",
      "[nltk_data]   Unzipping tokenizers/punkt.zip.\n",
      "[nltk_data] Downloading package stopwords to /root/nltk_data...\n",
      "[nltk_data]   Unzipping corpora/stopwords.zip.\n"
     ]
    }
   ],
   "source": [
    "nltk.download('wordnet')\n",
    "nltk.download('punkt')\n",
    "nltk.download('stopwords')\n",
    "stop_words = set(stopwords.words('english'))\n"
   ]
  },
  {
   "cell_type": "code",
   "execution_count": null,
   "metadata": {
    "colab": {
     "base_uri": "https://localhost:8080/",
     "height": 423
    },
    "id": "j0MQuQ1kSm3q",
    "outputId": "c4f46f30-880b-43a7-edb0-fc4be9e63576"
   },
   "outputs": [
    {
     "data": {
      "text/html": [
       "\n",
       "  <div id=\"df-ddf75d93-7182-413d-811a-8b2051a99370\">\n",
       "    <div class=\"colab-df-container\">\n",
       "      <div>\n",
       "<style scoped>\n",
       "    .dataframe tbody tr th:only-of-type {\n",
       "        vertical-align: middle;\n",
       "    }\n",
       "\n",
       "    .dataframe tbody tr th {\n",
       "        vertical-align: top;\n",
       "    }\n",
       "\n",
       "    .dataframe thead th {\n",
       "        text-align: right;\n",
       "    }\n",
       "</style>\n",
       "<table border=\"1\" class=\"dataframe\">\n",
       "  <thead>\n",
       "    <tr style=\"text-align: right;\">\n",
       "      <th></th>\n",
       "      <th>Unnamed: 0</th>\n",
       "      <th>Sentence_id</th>\n",
       "      <th>New_Sentence</th>\n",
       "    </tr>\n",
       "  </thead>\n",
       "  <tbody>\n",
       "    <tr>\n",
       "      <th>0</th>\n",
       "      <td>0</td>\n",
       "      <td>UAERES16346</td>\n",
       "      <td>Collaborate across all of DB&amp;T practices and o...</td>\n",
       "    </tr>\n",
       "    <tr>\n",
       "      <th>1</th>\n",
       "      <td>1</td>\n",
       "      <td>COGREQ15586</td>\n",
       "      <td>Strong  technology expertise in Identity and A...</td>\n",
       "    </tr>\n",
       "    <tr>\n",
       "      <th>2</th>\n",
       "      <td>2</td>\n",
       "      <td>UAEREQ12722</td>\n",
       "      <td>Strong knowledge on Service  Virtualization.</td>\n",
       "    </tr>\n",
       "    <tr>\n",
       "      <th>3</th>\n",
       "      <td>3</td>\n",
       "      <td>COGSKL29155</td>\n",
       "      <td>Architect scalable data processing and analyti...</td>\n",
       "    </tr>\n",
       "    <tr>\n",
       "      <th>4</th>\n",
       "      <td>4</td>\n",
       "      <td>PHERES12551</td>\n",
       "      <td>Map client organization, build outstanding rel...</td>\n",
       "    </tr>\n",
       "    <tr>\n",
       "      <th>...</th>\n",
       "      <td>...</td>\n",
       "      <td>...</td>\n",
       "      <td>...</td>\n",
       "    </tr>\n",
       "    <tr>\n",
       "      <th>15024</th>\n",
       "      <td>15024</td>\n",
       "      <td>HONEXP17084</td>\n",
       "      <td>A minimum of 3 years of experience in Industri...</td>\n",
       "    </tr>\n",
       "    <tr>\n",
       "      <th>15025</th>\n",
       "      <td>15025</td>\n",
       "      <td>UAESSK45553</td>\n",
       "      <td>Track record of managing multiple projects wit...</td>\n",
       "    </tr>\n",
       "    <tr>\n",
       "      <th>15026</th>\n",
       "      <td>15026</td>\n",
       "      <td>GERSSK14317</td>\n",
       "      <td>In addition, the candidate should have effecti...</td>\n",
       "    </tr>\n",
       "    <tr>\n",
       "      <th>15027</th>\n",
       "      <td>15027</td>\n",
       "      <td>PHEREQ4980</td>\n",
       "      <td>Candidate should have sufficient knowledge on ...</td>\n",
       "    </tr>\n",
       "    <tr>\n",
       "      <th>15028</th>\n",
       "      <td>15028</td>\n",
       "      <td>PHESKL2893</td>\n",
       "      <td>Experience in deployment and upgrading &amp; imple...</td>\n",
       "    </tr>\n",
       "  </tbody>\n",
       "</table>\n",
       "<p>14748 rows × 3 columns</p>\n",
       "</div>\n",
       "      <button class=\"colab-df-convert\" onclick=\"convertToInteractive('df-ddf75d93-7182-413d-811a-8b2051a99370')\"\n",
       "              title=\"Convert this dataframe to an interactive table.\"\n",
       "              style=\"display:none;\">\n",
       "        \n",
       "  <svg xmlns=\"http://www.w3.org/2000/svg\" height=\"24px\"viewBox=\"0 0 24 24\"\n",
       "       width=\"24px\">\n",
       "    <path d=\"M0 0h24v24H0V0z\" fill=\"none\"/>\n",
       "    <path d=\"M18.56 5.44l.94 2.06.94-2.06 2.06-.94-2.06-.94-.94-2.06-.94 2.06-2.06.94zm-11 1L8.5 8.5l.94-2.06 2.06-.94-2.06-.94L8.5 2.5l-.94 2.06-2.06.94zm10 10l.94 2.06.94-2.06 2.06-.94-2.06-.94-.94-2.06-.94 2.06-2.06.94z\"/><path d=\"M17.41 7.96l-1.37-1.37c-.4-.4-.92-.59-1.43-.59-.52 0-1.04.2-1.43.59L10.3 9.45l-7.72 7.72c-.78.78-.78 2.05 0 2.83L4 21.41c.39.39.9.59 1.41.59.51 0 1.02-.2 1.41-.59l7.78-7.78 2.81-2.81c.8-.78.8-2.07 0-2.86zM5.41 20L4 18.59l7.72-7.72 1.47 1.35L5.41 20z\"/>\n",
       "  </svg>\n",
       "      </button>\n",
       "      \n",
       "  <style>\n",
       "    .colab-df-container {\n",
       "      display:flex;\n",
       "      flex-wrap:wrap;\n",
       "      gap: 12px;\n",
       "    }\n",
       "\n",
       "    .colab-df-convert {\n",
       "      background-color: #E8F0FE;\n",
       "      border: none;\n",
       "      border-radius: 50%;\n",
       "      cursor: pointer;\n",
       "      display: none;\n",
       "      fill: #1967D2;\n",
       "      height: 32px;\n",
       "      padding: 0 0 0 0;\n",
       "      width: 32px;\n",
       "    }\n",
       "\n",
       "    .colab-df-convert:hover {\n",
       "      background-color: #E2EBFA;\n",
       "      box-shadow: 0px 1px 2px rgba(60, 64, 67, 0.3), 0px 1px 3px 1px rgba(60, 64, 67, 0.15);\n",
       "      fill: #174EA6;\n",
       "    }\n",
       "\n",
       "    [theme=dark] .colab-df-convert {\n",
       "      background-color: #3B4455;\n",
       "      fill: #D2E3FC;\n",
       "    }\n",
       "\n",
       "    [theme=dark] .colab-df-convert:hover {\n",
       "      background-color: #434B5C;\n",
       "      box-shadow: 0px 1px 3px 1px rgba(0, 0, 0, 0.15);\n",
       "      filter: drop-shadow(0px 1px 2px rgba(0, 0, 0, 0.3));\n",
       "      fill: #FFFFFF;\n",
       "    }\n",
       "  </style>\n",
       "\n",
       "      <script>\n",
       "        const buttonEl =\n",
       "          document.querySelector('#df-ddf75d93-7182-413d-811a-8b2051a99370 button.colab-df-convert');\n",
       "        buttonEl.style.display =\n",
       "          google.colab.kernel.accessAllowed ? 'block' : 'none';\n",
       "\n",
       "        async function convertToInteractive(key) {\n",
       "          const element = document.querySelector('#df-ddf75d93-7182-413d-811a-8b2051a99370');\n",
       "          const dataTable =\n",
       "            await google.colab.kernel.invokeFunction('convertToInteractive',\n",
       "                                                     [key], {});\n",
       "          if (!dataTable) return;\n",
       "\n",
       "          const docLinkHtml = 'Like what you see? Visit the ' +\n",
       "            '<a target=\"_blank\" href=https://colab.research.google.com/notebooks/data_table.ipynb>data table notebook</a>'\n",
       "            + ' to learn more about interactive tables.';\n",
       "          element.innerHTML = '';\n",
       "          dataTable['output_type'] = 'display_data';\n",
       "          await google.colab.output.renderOutput(dataTable, element);\n",
       "          const docLink = document.createElement('div');\n",
       "          docLink.innerHTML = docLinkHtml;\n",
       "          element.appendChild(docLink);\n",
       "        }\n",
       "      </script>\n",
       "    </div>\n",
       "  </div>\n",
       "  "
      ],
      "text/plain": [
       "       Unnamed: 0  Sentence_id  \\\n",
       "0               0  UAERES16346   \n",
       "1               1  COGREQ15586   \n",
       "2               2  UAEREQ12722   \n",
       "3               3  COGSKL29155   \n",
       "4               4  PHERES12551   \n",
       "...           ...          ...   \n",
       "15024       15024  HONEXP17084   \n",
       "15025       15025  UAESSK45553   \n",
       "15026       15026  GERSSK14317   \n",
       "15027       15027   PHEREQ4980   \n",
       "15028       15028   PHESKL2893   \n",
       "\n",
       "                                            New_Sentence  \n",
       "0      Collaborate across all of DB&T practices and o...  \n",
       "1      Strong  technology expertise in Identity and A...  \n",
       "2           Strong knowledge on Service  Virtualization.  \n",
       "3      Architect scalable data processing and analyti...  \n",
       "4      Map client organization, build outstanding rel...  \n",
       "...                                                  ...  \n",
       "15024  A minimum of 3 years of experience in Industri...  \n",
       "15025  Track record of managing multiple projects wit...  \n",
       "15026  In addition, the candidate should have effecti...  \n",
       "15027  Candidate should have sufficient knowledge on ...  \n",
       "15028  Experience in deployment and upgrading & imple...  \n",
       "\n",
       "[14748 rows x 3 columns]"
      ]
     },
     "execution_count": 3,
     "metadata": {},
     "output_type": "execute_result"
    }
   ],
   "source": [
    "data_test = pd.read_csv(\"/content/drive/MyDrive/Tutor/Assignment_NB/test_data.csv\")\n",
    "data_test = data_test.dropna()\n",
    "data_test"
   ]
  },
  {
   "cell_type": "code",
   "execution_count": null,
   "metadata": {
    "colab": {
     "base_uri": "https://localhost:8080/",
     "height": 423
    },
    "id": "dwGNuVk9Smos",
    "outputId": "ec85d427-837f-49ee-ceb7-3ecb732700bf"
   },
   "outputs": [
    {
     "data": {
      "text/html": [
       "\n",
       "  <div id=\"df-47605111-aa9f-4000-b4e0-b5a3fde0bd96\">\n",
       "    <div class=\"colab-df-container\">\n",
       "      <div>\n",
       "<style scoped>\n",
       "    .dataframe tbody tr th:only-of-type {\n",
       "        vertical-align: middle;\n",
       "    }\n",
       "\n",
       "    .dataframe tbody tr th {\n",
       "        vertical-align: top;\n",
       "    }\n",
       "\n",
       "    .dataframe thead th {\n",
       "        text-align: right;\n",
       "    }\n",
       "</style>\n",
       "<table border=\"1\" class=\"dataframe\">\n",
       "  <thead>\n",
       "    <tr style=\"text-align: right;\">\n",
       "      <th></th>\n",
       "      <th>Unnamed: 0</th>\n",
       "      <th>Sentence_id</th>\n",
       "      <th>New_Sentence</th>\n",
       "      <th>Type</th>\n",
       "    </tr>\n",
       "  </thead>\n",
       "  <tbody>\n",
       "    <tr>\n",
       "      <th>0</th>\n",
       "      <td>0</td>\n",
       "      <td>GERRES15609</td>\n",
       "      <td>Author and/or Review architecture/design and o...</td>\n",
       "      <td>Responsibility</td>\n",
       "    </tr>\n",
       "    <tr>\n",
       "      <th>1</th>\n",
       "      <td>1</td>\n",
       "      <td>PHERES15784</td>\n",
       "      <td>Should be able to develop custom dynamic shape...</td>\n",
       "      <td>Responsibility</td>\n",
       "    </tr>\n",
       "    <tr>\n",
       "      <th>2</th>\n",
       "      <td>2</td>\n",
       "      <td>GERREQ10457</td>\n",
       "      <td>Experience in working crosslly with a  larger ...</td>\n",
       "      <td>Requirement</td>\n",
       "    </tr>\n",
       "    <tr>\n",
       "      <th>3</th>\n",
       "      <td>3</td>\n",
       "      <td>GERSKL27235</td>\n",
       "      <td>Previous business experience, including but no...</td>\n",
       "      <td>Skill</td>\n",
       "    </tr>\n",
       "    <tr>\n",
       "      <th>4</th>\n",
       "      <td>4</td>\n",
       "      <td>HONSSK18415</td>\n",
       "      <td>Delivering fast and right the first  time.</td>\n",
       "      <td>SoftSkill</td>\n",
       "    </tr>\n",
       "    <tr>\n",
       "      <th>...</th>\n",
       "      <td>...</td>\n",
       "      <td>...</td>\n",
       "      <td>...</td>\n",
       "      <td>...</td>\n",
       "    </tr>\n",
       "    <tr>\n",
       "      <th>60110</th>\n",
       "      <td>60110</td>\n",
       "      <td>UAERES18030</td>\n",
       "      <td>In this position, you will  utilize your progr...</td>\n",
       "      <td>Responsibility</td>\n",
       "    </tr>\n",
       "    <tr>\n",
       "      <th>60111</th>\n",
       "      <td>60111</td>\n",
       "      <td>GERRES3026</td>\n",
       "      <td>In addition, this individual will be responsib...</td>\n",
       "      <td>Responsibility</td>\n",
       "    </tr>\n",
       "    <tr>\n",
       "      <th>60112</th>\n",
       "      <td>60112</td>\n",
       "      <td>INDSSK5492</td>\n",
       "      <td>Good problem  solving skills.</td>\n",
       "      <td>SoftSkill</td>\n",
       "    </tr>\n",
       "    <tr>\n",
       "      <th>60113</th>\n",
       "      <td>60113</td>\n",
       "      <td>PHESSK15092</td>\n",
       "      <td>Good Excel knowledge  .</td>\n",
       "      <td>SoftSkill</td>\n",
       "    </tr>\n",
       "    <tr>\n",
       "      <th>60114</th>\n",
       "      <td>60114</td>\n",
       "      <td>HONEDU1643</td>\n",
       "      <td>Bachelors Degree in  Electrical Engineering, M...</td>\n",
       "      <td>Education</td>\n",
       "    </tr>\n",
       "  </tbody>\n",
       "</table>\n",
       "<p>59002 rows × 4 columns</p>\n",
       "</div>\n",
       "      <button class=\"colab-df-convert\" onclick=\"convertToInteractive('df-47605111-aa9f-4000-b4e0-b5a3fde0bd96')\"\n",
       "              title=\"Convert this dataframe to an interactive table.\"\n",
       "              style=\"display:none;\">\n",
       "        \n",
       "  <svg xmlns=\"http://www.w3.org/2000/svg\" height=\"24px\"viewBox=\"0 0 24 24\"\n",
       "       width=\"24px\">\n",
       "    <path d=\"M0 0h24v24H0V0z\" fill=\"none\"/>\n",
       "    <path d=\"M18.56 5.44l.94 2.06.94-2.06 2.06-.94-2.06-.94-.94-2.06-.94 2.06-2.06.94zm-11 1L8.5 8.5l.94-2.06 2.06-.94-2.06-.94L8.5 2.5l-.94 2.06-2.06.94zm10 10l.94 2.06.94-2.06 2.06-.94-2.06-.94-.94-2.06-.94 2.06-2.06.94z\"/><path d=\"M17.41 7.96l-1.37-1.37c-.4-.4-.92-.59-1.43-.59-.52 0-1.04.2-1.43.59L10.3 9.45l-7.72 7.72c-.78.78-.78 2.05 0 2.83L4 21.41c.39.39.9.59 1.41.59.51 0 1.02-.2 1.41-.59l7.78-7.78 2.81-2.81c.8-.78.8-2.07 0-2.86zM5.41 20L4 18.59l7.72-7.72 1.47 1.35L5.41 20z\"/>\n",
       "  </svg>\n",
       "      </button>\n",
       "      \n",
       "  <style>\n",
       "    .colab-df-container {\n",
       "      display:flex;\n",
       "      flex-wrap:wrap;\n",
       "      gap: 12px;\n",
       "    }\n",
       "\n",
       "    .colab-df-convert {\n",
       "      background-color: #E8F0FE;\n",
       "      border: none;\n",
       "      border-radius: 50%;\n",
       "      cursor: pointer;\n",
       "      display: none;\n",
       "      fill: #1967D2;\n",
       "      height: 32px;\n",
       "      padding: 0 0 0 0;\n",
       "      width: 32px;\n",
       "    }\n",
       "\n",
       "    .colab-df-convert:hover {\n",
       "      background-color: #E2EBFA;\n",
       "      box-shadow: 0px 1px 2px rgba(60, 64, 67, 0.3), 0px 1px 3px 1px rgba(60, 64, 67, 0.15);\n",
       "      fill: #174EA6;\n",
       "    }\n",
       "\n",
       "    [theme=dark] .colab-df-convert {\n",
       "      background-color: #3B4455;\n",
       "      fill: #D2E3FC;\n",
       "    }\n",
       "\n",
       "    [theme=dark] .colab-df-convert:hover {\n",
       "      background-color: #434B5C;\n",
       "      box-shadow: 0px 1px 3px 1px rgba(0, 0, 0, 0.15);\n",
       "      filter: drop-shadow(0px 1px 2px rgba(0, 0, 0, 0.3));\n",
       "      fill: #FFFFFF;\n",
       "    }\n",
       "  </style>\n",
       "\n",
       "      <script>\n",
       "        const buttonEl =\n",
       "          document.querySelector('#df-47605111-aa9f-4000-b4e0-b5a3fde0bd96 button.colab-df-convert');\n",
       "        buttonEl.style.display =\n",
       "          google.colab.kernel.accessAllowed ? 'block' : 'none';\n",
       "\n",
       "        async function convertToInteractive(key) {\n",
       "          const element = document.querySelector('#df-47605111-aa9f-4000-b4e0-b5a3fde0bd96');\n",
       "          const dataTable =\n",
       "            await google.colab.kernel.invokeFunction('convertToInteractive',\n",
       "                                                     [key], {});\n",
       "          if (!dataTable) return;\n",
       "\n",
       "          const docLinkHtml = 'Like what you see? Visit the ' +\n",
       "            '<a target=\"_blank\" href=https://colab.research.google.com/notebooks/data_table.ipynb>data table notebook</a>'\n",
       "            + ' to learn more about interactive tables.';\n",
       "          element.innerHTML = '';\n",
       "          dataTable['output_type'] = 'display_data';\n",
       "          await google.colab.output.renderOutput(dataTable, element);\n",
       "          const docLink = document.createElement('div');\n",
       "          docLink.innerHTML = docLinkHtml;\n",
       "          element.appendChild(docLink);\n",
       "        }\n",
       "      </script>\n",
       "    </div>\n",
       "  </div>\n",
       "  "
      ],
      "text/plain": [
       "       Unnamed: 0  Sentence_id  \\\n",
       "0               0  GERRES15609   \n",
       "1               1  PHERES15784   \n",
       "2               2  GERREQ10457   \n",
       "3               3  GERSKL27235   \n",
       "4               4  HONSSK18415   \n",
       "...           ...          ...   \n",
       "60110       60110  UAERES18030   \n",
       "60111       60111   GERRES3026   \n",
       "60112       60112   INDSSK5492   \n",
       "60113       60113  PHESSK15092   \n",
       "60114       60114   HONEDU1643   \n",
       "\n",
       "                                            New_Sentence            Type  \n",
       "0      Author and/or Review architecture/design and o...  Responsibility  \n",
       "1      Should be able to develop custom dynamic shape...  Responsibility  \n",
       "2      Experience in working crosslly with a  larger ...     Requirement  \n",
       "3      Previous business experience, including but no...           Skill  \n",
       "4             Delivering fast and right the first  time.       SoftSkill  \n",
       "...                                                  ...             ...  \n",
       "60110  In this position, you will  utilize your progr...  Responsibility  \n",
       "60111  In addition, this individual will be responsib...  Responsibility  \n",
       "60112                      Good problem  solving skills.       SoftSkill  \n",
       "60113                            Good Excel knowledge  .       SoftSkill  \n",
       "60114  Bachelors Degree in  Electrical Engineering, M...       Education  \n",
       "\n",
       "[59002 rows x 4 columns]"
      ]
     },
     "execution_count": 4,
     "metadata": {},
     "output_type": "execute_result"
    }
   ],
   "source": [
    "data = pd.read_csv(\"/content/drive/MyDrive/Tutor/Assignment_NB/train_data.csv\")\n",
    "data = data.dropna()\n",
    "data"
   ]
  },
  {
   "cell_type": "code",
   "execution_count": null,
   "metadata": {
    "id": "tfp8vFUjT_jC"
   },
   "outputs": [],
   "source": [
    "contraction_mapping = {\"ain't\": \"is not\", \"aren't\": \"are not\",\"can't\": \"cannot\", \"'cause\": \"because\", \"could've\": \"could have\", \"couldn't\": \"could not\",\n",
    "\n",
    "                           \"didn't\": \"did not\", \"doesn't\": \"does not\", \"don't\": \"do not\", \"hadn't\": \"had not\", \"hasn't\": \"has not\", \"haven't\": \"have not\",\n",
    "\n",
    "                           \"he'd\": \"he would\",\"he'll\": \"he will\", \"he's\": \"he is\", \"how'd\": \"how did\", \"how'd'y\": \"how do you\", \"how'll\": \"how will\", \"how's\": \"how is\",\n",
    "\n",
    "                           \"I'd\": \"I would\", \"I'd've\": \"I would have\", \"I'll\": \"I will\", \"I'll've\": \"I will have\",\"I'm\": \"I am\", \"I've\": \"I have\", \"i'd\": \"i would\",\n",
    "\n",
    "                           \"i'd've\": \"i would have\", \"i'll\": \"i will\",  \"i'll've\": \"i will have\",\"i'm\": \"i am\", \"i've\": \"i have\", \"isn't\": \"is not\", \"it'd\": \"it would\",\n",
    "\n",
    "                           \"it'd've\": \"it would have\", \"it'll\": \"it will\", \"it'll've\": \"it will have\",\"it's\": \"it is\", \"let's\": \"let us\", \"ma'am\": \"madam\",\n",
    "\n",
    "                           \"mayn't\": \"may not\", \"might've\": \"might have\",\"mightn't\": \"might not\",\"mightn't've\": \"might not have\", \"must've\": \"must have\",\n",
    "\n",
    "                           \"mustn't\": \"must not\", \"mustn't've\": \"must not have\", \"needn't\": \"need not\", \"needn't've\": \"need not have\",\"o'clock\": \"of the clock\",\n",
    "\n",
    "                           \"oughtn't\": \"ought not\", \"oughtn't've\": \"ought not have\", \"shan't\": \"shall not\", \"sha'n't\": \"shall not\", \"shan't've\": \"shall not have\",\n",
    "\n",
    "                           \"she'd\": \"she would\", \"she'd've\": \"she would have\", \"she'll\": \"she will\", \"she'll've\": \"she will have\", \"she's\": \"she is\",\n",
    "\n",
    "                           \"should've\": \"should have\", \"shouldn't\": \"should not\", \"shouldn't've\": \"should not have\", \"so've\": \"so have\",\"so's\": \"so as\",\n",
    "\n",
    "                           \"this's\": \"this is\",\"that'd\": \"that would\", \"that'd've\": \"that would have\", \"that's\": \"that is\", \"there'd\": \"there would\",\n",
    "\n",
    "                           \"there'd've\": \"there would have\", \"there's\": \"there is\", \"here's\": \"here is\",\"they'd\": \"they would\", \"they'd've\": \"they would have\",\n",
    "\n",
    "                           \"they'll\": \"they will\", \"they'll've\": \"they will have\", \"they're\": \"they are\", \"they've\": \"they have\", \"to've\": \"to have\",\n",
    "\n",
    "                           \"wasn't\": \"was not\", \"we'd\": \"we would\", \"we'd've\": \"we would have\", \"we'll\": \"we will\", \"we'll've\": \"we will have\", \"we're\": \"we are\",\n",
    "\n",
    "                           \"we've\": \"we have\", \"weren't\": \"were not\", \"what'll\": \"what will\", \"what'll've\": \"what will have\", \"what're\": \"what are\",\n",
    "\n",
    "                           \"what's\": \"what is\", \"what've\": \"what have\", \"when's\": \"when is\", \"when've\": \"when have\", \"where'd\": \"where did\", \"where's\": \"where is\",\n",
    "\n",
    "                           \"where've\": \"where have\", \"who'll\": \"who will\", \"who'll've\": \"who will have\", \"who's\": \"who is\", \"who've\": \"who have\",\n",
    "\n",
    "                           \"why's\": \"why is\", \"why've\": \"why have\", \"will've\": \"will have\", \"won't\": \"will not\", \"won't've\": \"will not have\",\n",
    "\n",
    "                           \"would've\": \"would have\", \"wouldn't\": \"would not\", \"wouldn't've\": \"would not have\", \"y'all\": \"you all\",\n",
    "\n",
    "                           \"y'all'd\": \"you all would\",\"y'all'd've\": \"you all would have\",\"y'all're\": \"you all are\",\"y'all've\": \"you all have\",\n",
    "\n",
    "                           \"you'd\": \"you would\", \"you'd've\": \"you would have\", \"you'll\": \"you will\", \"you'll've\": \"you will have\",\n",
    "\n",
    "                           \"you're\": \"you are\", \"you've\": \"you have\"}"
   ]
  },
  {
   "cell_type": "code",
   "execution_count": null,
   "metadata": {
    "id": "JK_kVhD0aQAl"
   },
   "outputs": [],
   "source": [
    "def sentence_cleaner(text):\n",
    "    # print(text)\n",
    "    newString = text.lower()\n",
    "    newString = BeautifulSoup(newString, \"lxml\").text\n",
    "    newString = re.sub(r'\\([^)]*\\)', '', newString)\n",
    "    newString = re.sub('\"','', newString)\n",
    "    newString = ' '.join([contraction_mapping[t] if t in contraction_mapping else t for t in newString.split(\" \")])    \n",
    "    newString = re.sub(r\"'s\\b\",\"\",newString)\n",
    "    newString = re.sub(\"[^a-zA-Z]\", \" \", newString) \n",
    "    newString = word_tokenize(newString)  \n",
    "    newString=[w for w in newString if not w.lower() in stop_words] #Removing stop words\n",
    "\n",
    "    return newString\n",
    "\n",
    "\n"
   ]
  },
  {
   "cell_type": "code",
   "execution_count": null,
   "metadata": {
    "colab": {
     "base_uri": "https://localhost:8080/"
    },
    "id": "-sV-qt4klr-E",
    "outputId": "c09e05dd-bb5f-4a67-cc33-fe8d390c6609"
   },
   "outputs": [
    {
     "name": "stdout",
     "output_type": "stream",
     "text": [
      "No of rows :  59002\n",
      "classes : {'Experience', 'SoftSkill', 'Education', 'Skill', 'Responsibility', 'Requirement'}\n"
     ]
    }
   ],
   "source": [
    "label_name=set(list(data['Type']))\n",
    "total_elements=len((list(data['Type'])))\n",
    "print(\"No of rows : \",total_elements)\n",
    "print(\"classes :\",label_name)\n",
    "sentences=list(data['New_Sentence'])\n",
    "labels=list(data['Type'])"
   ]
  },
  {
   "cell_type": "code",
   "execution_count": null,
   "metadata": {
    "colab": {
     "base_uri": "https://localhost:8080/"
    },
    "id": "e61Llv2Blu9X",
    "outputId": "0dfd7657-f949-4650-e6e4-d2eb10ef86cd"
   },
   "outputs": [
    {
     "name": "stderr",
     "output_type": "stream",
     "text": [
      "/usr/local/lib/python3.7/dist-packages/bs4/__init__.py:336: UserWarning: \"https://honeywell.csod.com/ux/ats/careersite/1/home/requisition/306576?c=honeywell.]\" looks like a URL. Beautiful Soup is not an HTTP client. You should probably use an HTTP client like requests to get the document behind the URL, and feed that document to Beautiful Soup.\n",
      "  ' that document to Beautiful Soup.' % decoded_markup\n"
     ]
    }
   ],
   "source": [
    "clean_sentences=[]\n",
    "for sen in sentences:\n",
    "  cleaned_sen=sentence_cleaner(sen)\n",
    "  clean_sentences.append(cleaned_sen)\n"
   ]
  },
  {
   "cell_type": "code",
   "execution_count": null,
   "metadata": {
    "id": "KAWfyhR7aybW"
   },
   "outputs": [],
   "source": [
    "X_train, X_test, y_train, y_test = train_test_split(clean_sentences, labels, test_size=0.2, random_state=42)"
   ]
  },
  {
   "cell_type": "code",
   "execution_count": null,
   "metadata": {
    "id": "FbYlvnRxmTiz"
   },
   "outputs": [],
   "source": [
    "vocab=[]\n",
    "for i in X_train:\n",
    "  vocab.extend(i)\n",
    "total_elements=len(y_train)\n"
   ]
  },
  {
   "cell_type": "code",
   "execution_count": null,
   "metadata": {
    "id": "QIPKLF1AfzO_"
   },
   "outputs": [],
   "source": [
    "#Calculating frequency for each class and overall \n",
    "word_frequency=Counter(vocab)\n",
    "class_frequency=Counter(y_train)\n",
    "\n",
    "Responsibility_word=[]\n",
    "Requirement_word=[]\n",
    "Skill_word=[]\n",
    "SoftSkill_word=[]\n",
    "Education_word=[]\n",
    "Experience_word=[]\n",
    "\n",
    "for i in range(len(y_train)):\n",
    "  if labels[i]=='Responsibility':\n",
    "    Responsibility_word.extend(clean_sentences[i])\n",
    "  elif labels[i]=='Requirement':\n",
    "    Requirement_word.extend(clean_sentences[i])\n",
    "  elif labels[i]=='Skill':\n",
    "    Skill_word.extend(clean_sentences[i])\n",
    "  elif labels[i]=='SoftSkill':\n",
    "    SoftSkill_word.extend(clean_sentences[i])\n",
    "  elif labels[i]=='Education':\n",
    "    Education_word.extend(clean_sentences[i])\n",
    "  elif labels[i]=='Experience':\n",
    "    Experience_word.extend(clean_sentences[i])\n",
    "\n",
    "Responsibility_frequency=Counter(Responsibility_word)\n",
    "Requirement_frequency=Counter(Requirement_word)\n",
    "Skill_frequency=Counter(Skill_word)\n",
    "SoftSkill_frequency=Counter(SoftSkill_word)\n",
    "Education_frequency=Counter(Education_word)\n",
    "Experience_frequency=Counter(Experience_word)"
   ]
  },
  {
   "cell_type": "markdown",
   "metadata": {
    "id": "7TVj4mwVh-be"
   },
   "source": [
    "#Class distribution"
   ]
  },
  {
   "cell_type": "code",
   "execution_count": null,
   "metadata": {
    "colab": {
     "base_uri": "https://localhost:8080/",
     "height": 466
    },
    "id": "uMI8q3Feh97H",
    "outputId": "d1c5660f-01aa-4475-ad1e-59a484ed8386"
   },
   "outputs": [
    {
     "data": {
      "image/png": "[encoded data removed]",
      "text/plain": [
       "<Figure size 1440x576 with 1 Axes>"
      ]
     },
     "metadata": {},
     "output_type": "display_data"
    }
   ],
   "source": [
    "fig=plt.figure(figsize=(20, 8))\n",
    "plt.pie([float(class_frequency[v]) for v in class_frequency], labels=[str(k) for k in class_frequency], autopct='%1.1f%%')\n",
    "plt.show()\n",
    "plt.show()"
   ]
  },
  {
   "cell_type": "code",
   "execution_count": null,
   "metadata": {
    "id": "brMozc7hqOTN"
   },
   "outputs": [],
   "source": [
    "def NB_prediction_with_smoothing(sentence,alpha):\n",
    "  label_lst=['Responsibility','Requirement','Skill','SoftSkill','Education','Experience']\n",
    "  lst=[]\n",
    "  \n",
    "  post=1\n",
    "  prior=1\n",
    "  for i in sentence:\n",
    "    post=post*(Responsibility_frequency[i]/class_frequency['Responsibility'])\n",
    "    prior=prior*(word_frequency[i]/total_elements)\n",
    "  prob=(post+alpha)/(prior+6*alpha)\n",
    "  prob=prob*class_frequency['Responsibility']/total_elements\n",
    "  lst.append(prob)\n",
    "\n",
    "  post=1\n",
    "  prior=1\n",
    "  for i in sentence:\n",
    "    post=post*(Requirement_frequency[i]/class_frequency['Requirement'])\n",
    "    prior=prior*(word_frequency[i]/total_elements)\n",
    "  prob=(post+alpha)/(prior+6*alpha)\n",
    "  prob=prob*class_frequency['Requirement']/total_elements\n",
    "  lst.append(prob)\n",
    "\n",
    "  post=1\n",
    "  prior=1\n",
    "  for i in sentence:\n",
    "    post=post*(Skill_frequency[i]/class_frequency['Skill'])\n",
    "    prior=prior*(word_frequency[i]/total_elements)\n",
    "  prob=(post+alpha)/(prior+6*alpha)\n",
    "  prob=prob*class_frequency['Skill']/total_elements\n",
    "  lst.append(prob)\n",
    "\n",
    "  post=1\n",
    "  prior=1\n",
    "  for i in sentence:\n",
    "    post=post*(SoftSkill_frequency[i]/class_frequency['SoftSkill'])\n",
    "    prior=prior*(word_frequency[i]/total_elements)\n",
    "  prob=(post+alpha)/(prior+6*alpha)\n",
    "  prob=prob*class_frequency['SoftSkill']/total_elements\n",
    "  lst.append(prob)\n",
    "\n",
    "  post=1\n",
    "  prior=1\n",
    "  for i in sentence:\n",
    "    post=post*(Education_frequency[i]/class_frequency['Education'])\n",
    "    prior=prior*(word_frequency[i]/total_elements)\n",
    "  prob=(post+alpha)/(prior+6*alpha)\n",
    "  prob=prob*class_frequency['Education']/total_elements\n",
    "  lst.append(prob)\n",
    "\n",
    "  post=1\n",
    "  prior=1\n",
    "  for i in sentence:\n",
    "    post=post*(Experience_frequency[i]/class_frequency['Experience'])\n",
    "    prior=prior*(word_frequency[i]/total_elements)\n",
    "  prob=(post+alpha)/(prior+6*alpha)\n",
    "  prob=prob*class_frequency['Experience']/total_elements\n",
    "  lst.append(prob)\n",
    "\n",
    "  return label_lst[lst.index(max(lst))]\n",
    "\n",
    "\n"
   ]
  },
  {
   "cell_type": "code",
   "execution_count": null,
   "metadata": {
    "id": "3XbZAv5vhHgj"
   },
   "outputs": [],
   "source": [
    "def NB_prediction_without_smoothing(sentence):\n",
    "  label_lst=['Responsibility','Requirement','Skill','SoftSkill','Education','Experience']\n",
    "  lst=[]\n",
    "  post=1\n",
    "  for i in sentence:\n",
    "    post=post*(Responsibility_frequency[i]/class_frequency['Responsibility'])/(word_frequency[i]/total_elements)\n",
    "  post=post*class_frequency['Responsibility']/total_elements\n",
    "  lst.append(post)\n",
    "\n",
    "  post=1\n",
    "  for i in sentence:\n",
    "    post=post*(Requirement_frequency[i]/class_frequency['Requirement'])/(word_frequency[i]/total_elements)\n",
    "  post=post*class_frequency['Requirement']/total_elements\n",
    "  lst.append(post)\n",
    "\n",
    "  post=1\n",
    "  for i in sentence:\n",
    "    post=post*(Skill_frequency[i]/class_frequency['Skill'])/(word_frequency[i]/total_elements)\n",
    "  post=post*class_frequency['Skill']/total_elements\n",
    "  lst.append(post)\n",
    "\n",
    "  post=1\n",
    "  for i in sentence:\n",
    "    post=post*(SoftSkill_frequency[i]/class_frequency['SoftSkill'])/(word_frequency[i]/total_elements)\n",
    "  post=post*class_frequency['SoftSkill']/total_elements\n",
    "  lst.append(post)\n",
    "\n",
    "  post=1\n",
    "  for i in sentence:\n",
    "    post=post*(Education_frequency[i]/class_frequency['Education'])/(word_frequency[i]/total_elements)\n",
    "  post=post*class_frequency['Education']/total_elements\n",
    "  lst.append(post)\n",
    "\n",
    "  post=1\n",
    "  for i in sentence:\n",
    "    post=post*(Experience_frequency[i]/class_frequency['Experience'])/(word_frequency[i]/total_elements)\n",
    "  post=post*class_frequency['Experience']/total_elements\n",
    "  lst.append(post)\n",
    "\n",
    "  return label_lst[lst.index(max(lst))]\n",
    "\n",
    "\n"
   ]
  },
  {
   "cell_type": "markdown",
   "metadata": {
    "id": "8Pj1rfgC-OeC"
   },
   "source": [
    "#Without smoothing"
   ]
  },
  {
   "cell_type": "code",
   "execution_count": null,
   "metadata": {
    "id": "nAghxDjofH9k"
   },
   "outputs": [],
   "source": [
    "#Without smoothing\n",
    "predictions_label=[]\n",
    "for i in range(len(y_test)):\n",
    "  predictions_label.append(NB_prediction_without_smoothing(X_test[i]))\n",
    "\n",
    "print(accuracy_score(y_test,predictions_label))\n",
    "confusion_matrix(y_test,predictions_label)"
   ]
  },
  {
   "cell_type": "markdown",
   "metadata": {
    "id": "F-eUXMQ3-MS-"
   },
   "source": [
    "#With smoothing"
   ]
  },
  {
   "cell_type": "code",
   "execution_count": null,
   "metadata": {
    "id": "HLHOwKpg-Wiv"
   },
   "outputs": [],
   "source": [
    "\n",
    "best_acc=[]\n",
    "alpha=[1,1e-01,1e-10,1e-50,1e-100,1e-150,1e-200]\n",
    "for j in alpha:\n",
    "  predictions_label=[]\n",
    "  for i in range(len(y_test)):\n",
    "    predictions_label.append(NB_prediction_with_smoothing(X_test[i],j))\n",
    "\n",
    "  best_acc.append(accuracy_score(y_test,predictions_label))"
   ]
  },
  {
   "cell_type": "code",
   "execution_count": null,
   "metadata": {
    "colab": {
     "base_uri": "https://localhost:8080/",
     "height": 313
    },
    "id": "9sqcatE9-1FR",
    "outputId": "1cc084b9-3c3d-4020-a830-704a8618ad66"
   },
   "outputs": [
    {
     "data": {
      "text/plain": [
       "Text(0.5, 0, 'Alpha')"
      ]
     },
     "execution_count": 208,
     "metadata": {},
     "output_type": "execute_result"
    },
    {
     "data": {
      "image/png": "[encoded data removed]",
      "text/plain": [
       "<Figure size 432x288 with 1 Axes>"
      ]
     },
     "metadata": {
      "needs_background": "light"
     },
     "output_type": "display_data"
    }
   ],
   "source": [
    "\n",
    "alpha=[str(i) for i in alpha]\n",
    "plt.bar(alpha,best_acc) \n",
    "plt.title('Alpha Tuning')\n",
    "plt.ylabel('Accuracy')\n",
    "plt.xlabel('Alpha')\n",
    "# plt.title('matplotlib.pyplot.plot() example 1') "
   ]
  },
  {
   "cell_type": "markdown",
   "metadata": {
    "id": "nTFVjtRaBRTL"
   },
   "source": [
    "From above graph, we cann see that accuracy is becoming constant after alpha=1e-10. So,we will use alpha=1e-100"
   ]
  },
  {
   "cell_type": "code",
   "execution_count": null,
   "metadata": {
    "colab": {
     "base_uri": "https://localhost:8080/"
    },
    "id": "8TI9suw-feqB",
    "outputId": "1ff6ad11-47f2-4fb1-94e7-1c5dd10acdd6"
   },
   "outputs": [
    {
     "name": "stdout",
     "output_type": "stream",
     "text": [
      "Validation accuracy : 0.7295144479281417\n"
     ]
    },
    {
     "data": {
      "text/plain": [
       "array([[ 763,   27,   40,   66,   11,    3],\n",
       "       [  26, 1638,   51,   85,   18,    4],\n",
       "       [ 206,  328, 1279,  383,  205,  345],\n",
       "       [   0,   31,   75, 2930,   31,   30],\n",
       "       [  17,  248,  132,  212,  701,   50],\n",
       "       [   3,   49,  195,  288,   33, 1298]])"
      ]
     },
     "execution_count": 209,
     "metadata": {},
     "output_type": "execute_result"
    }
   ],
   "source": [
    "#With smoothing\n",
    "predictions_label=[]\n",
    "for i in range(len(y_test)):\n",
    "  predictions_label.append(NB_prediction_with_smoothing(X_test[i],1e-100))\n",
    "\n",
    "print(\"Validation accuracy :\",accuracy_score(y_test,predictions_label))\n",
    "confusion_matrix(y_test,predictions_label)"
   ]
  },
  {
   "cell_type": "markdown",
   "metadata": {
    "id": "YnJlKKMl-H1T"
   },
   "source": [
    "#Top 10 words that predict each class"
   ]
  },
  {
   "cell_type": "code",
   "execution_count": null,
   "metadata": {
    "colab": {
     "base_uri": "https://localhost:8080/"
    },
    "id": "ikUGFRiS3iC3",
    "outputId": "7b95596d-6ddd-451e-8df8-20e8f8f0d570"
   },
   "outputs": [
    {
     "name": "stdout",
     "output_type": "stream",
     "text": [
      "Top 10 words for  Responsibility  :\n",
      "delay  devises  jurisdiction  atlanta  installateurs  hris  yields  assembles  station  buyouts  \n",
      "Top 10 words for  Requirement  :\n",
      "maturitxe  activation  leasing  qualifying  leasing  trying  trying  qualifying  politique  suggestion  \n",
      "Top 10 words for  Skill  :\n",
      "hbts  additions  procures  sicher  cfl  optimised  approves  drawn  inspects  komfortabel  \n",
      "Top 10 words for  SoftSkill  :\n",
      "mentees  celebrate  cliente  visitas  thus  gaging  stewarts  bespoke  optimisation  binnen  \n",
      "Top 10 words for  Education  :\n",
      "programmen  localization  gembas  deletion  decide  supplying  hab  trip  answering  approves  \n",
      "Top 10 words for  Experience  :\n",
      "handoff  suggestion  lsw  nonconformities  elaborating  failed  compounds  suggesting  breaches  hunt  \n"
     ]
    }
   ],
   "source": [
    "label_lst=['Responsibility','Requirement','Skill','SoftSkill','Education','Experience']\n",
    "alpha=1e-100\n",
    "lst=[[],[],[],[],[],[]]\n",
    "for i in vocab:\n",
    "  lst[0].append((class_frequency['Responsibility']/total_elements)*((Responsibility_frequency[i]/class_frequency['Responsibility']) +alpha)/((word_frequency[i]/total_elements) +6*alpha))\n",
    "  lst[1].append((class_frequency['Requirement']/total_elements)*((Requirement_frequency[i]/class_frequency['Requirement'])+alpha)/((word_frequency[i]/total_elements)+6*alpha))\n",
    "  lst[2].append((class_frequency['Skill']/total_elements)*((Skill_frequency[i]/class_frequency['Skill'])+alpha)/((word_frequency[i]/total_elements)+6*alpha))\n",
    "  lst[3].append((class_frequency['SoftSkill']/total_elements)*((SoftSkill_frequency[i]/class_frequency['SoftSkill'])+alpha)/((word_frequency[i]/total_elements)+6*alpha))\n",
    "  lst[4].append((class_frequency['Education']/total_elements)*((Education_frequency[i]/class_frequency['Education'])+alpha)/((word_frequency[i]/total_elements)+6*alpha))\n",
    "  lst[5].append((class_frequency['Experience']/total_elements)*((Experience_frequency[i]/class_frequency['Experience'])+alpha)/((word_frequency[i]/total_elements)+6*alpha))\n",
    "\n",
    "for lab in label_lst:\n",
    "  c=0\n",
    "  print(\"Top 10 words for \",lab,' :')\n",
    "  for i in range(10):\n",
    "    pos=lst[c].index(max(lst[c]))\n",
    "    print(vocab[pos], end =\"  \")\n",
    "    lst[c][pos]=0\n",
    "  c=c+1\n",
    "  print()\n",
    "\n"
   ]
  },
  {
   "cell_type": "code",
   "execution_count": null,
   "metadata": {
    "id": "Do8omz0RlWV5"
   },
   "outputs": [],
   "source": []
  }
 ],
 "metadata": {
  "colab": {
   "provenance": []
  },
  "kernelspec": {
   "display_name": "Python 3",
   "language": "python",
   "name": "python3"
  },
  "language_info": {
   "codemirror_mode": {
    "name": "ipython",
    "version": 3
   },
   "file_extension": ".py",
   "mimetype": "text/x-python",
   "name": "python",
   "nbconvert_exporter": "python",
   "pygments_lexer": "ipython3",
   "version": "3.7.3"
  }
 },
 "nbformat": 4,
 "nbformat_minor": 1
}
